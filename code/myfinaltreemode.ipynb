{
  "cells": [
    {
      "metadata": {
        "trusted": true,
        "_uuid": "8ded1d0c484d532435b55ffd21208e1d45bdafdf",
        "collapsed": true
      },
      "cell_type": "code",
      "source": "import pandas as pd\nimport numpy as np\nimport lightgbm as lgb\nfrom sklearn import metrics\nimport matplotlib.pyplot as plt\nimport seaborn as sns\nimport xgboost as xgb  ",
      "execution_count": 27,
      "outputs": []
    },
    {
      "metadata": {
        "trusted": true,
        "_uuid": "846750e95be33d8b0e95969cd2d07871f24bc4bc",
        "collapsed": true
      },
      "cell_type": "code",
      "source": "train = pd.read_csv('../input/mydata-a/train_featureV5.csv')\ntest = pd.read_csv('../input/mydata-a/test_featureV5.csv')",
      "execution_count": 11,
      "outputs": []
    },
    {
      "metadata": {
        "collapsed": true,
        "trusted": true,
        "_uuid": "f5b964cf54064cedfc1e9462271963eacc58dcf0"
      },
      "cell_type": "code",
      "source": "dtrain = lgb.Dataset(train.drop(['uid','label'],axis=1),label=train.label)\ndtest = lgb.Dataset(test.drop(['uid'],axis=1))",
      "execution_count": 12,
      "outputs": []
    },
    {
      "metadata": {
        "collapsed": true,
        "trusted": true,
        "_uuid": "2c98d4009c8f9f362129b145fc343b688697a552"
      },
      "cell_type": "code",
      "source": "lgb_params =  {\n    'boosting_type': 'gbdt',\n    'objective': 'binary',\n#    'metric': ('multi_logloss', 'multi_error'),\n    #'metric_freq': 100,\n    'is_training_metric': False,\n    'min_data_in_leaf': 48,\n    'num_leaves': 128,\n    'learning_rate': 0.06,\n    'feature_fraction': 0.8,\n    'bagging_fraction': 0.8,\n    'verbosity':-1,\n#    'gpu_device_id':2,\n#    'device':'gpu'\n#    'lambda_l1': 0.001,\n#    'skip_drop': 0.95,\n#    'max_drop' : 10\n    #'lambda_l2': 0.005\n    #'num_threads': 18\n}    ",
      "execution_count": 13,
      "outputs": []
    },
    {
      "metadata": {
        "collapsed": true,
        "trusted": true,
        "_uuid": "b7be55c107e0be596a0f58acdc6d000373c789fe"
      },
      "cell_type": "code",
      "source": "def evalMetric(preds,dtrain):\n    \n    label = dtrain.get_label()\n    \n    \n    pre = pd.DataFrame({'preds':preds,'label':label})\n    pre= pre.sort_values(by='preds',ascending=False)\n    \n    auc = metrics.roc_auc_score(pre.label,pre.preds)\n\n    pre.preds=pre.preds.map(lambda x: 1 if x>=0.28 else 0)\n\n    f1 = metrics.f1_score(pre.label,pre.preds)\n    \n    \n    res = 0.6*auc +0.4*f1\n    \n    return 'res',res,True\n    \n\n    ",
      "execution_count": 14,
      "outputs": []
    },
    {
      "metadata": {
        "_uuid": "abcc25893bc22d94b6c53a10b2751649b1389c92"
      },
      "cell_type": "markdown",
      "source": "### 调参"
    },
    {
      "metadata": {
        "_kg_hide-input": true,
        "_uuid": "fb990b6addb8bfb42c8835e9e6d1292a84c98d58",
        "trusted": true
      },
      "cell_type": "code",
      "source": "print(\"调参1：提高准确率\")\nfor num_leaves in range(20,200,5):\n    lgb_params['num_leaves'] = num_leaves\n    cv_results = lgb.cv(\n                            lgb_params,\n                            dtrain,\n                            nfold=3,\n                            early_stopping_rounds=100,\n                            num_boost_round=10000,\n                            verbose_eval=5,\n                            metrics=['binary_error']\n                        )\n    mean_merror = pd.Series(cv_results['binary_error-mean']).min()\n    boost_rounds = pd.Series(cv_results['binary_error-mean']).argmin()\n\n    if mean_merror < min_merror:\n            min_merror = mean_merror\n            best_params['num_leaves'] = num_leaves\n\nlgb_params['num_leaves'] = best_params['num_leaves']",
      "execution_count": 20,
      "outputs": [
        {
          "output_type": "stream",
          "text": "调参1：提高准确率\n[5]\tcv_agg's binary_error: 0.139229 + 0.00301919\n[10]\tcv_agg's binary_error: 0.14023 + 0.00720934\n[15]\tcv_agg's binary_error: 0.14083 + 0.00619732\n[20]\tcv_agg's binary_error: 0.138429 + 0.0073879\n[25]\tcv_agg's binary_error: 0.135629 + 0.00710249\n[30]\tcv_agg's binary_error: 0.133228 + 0.00568418\n[35]\tcv_agg's binary_error: 0.132428 + 0.00655977\n[40]\tcv_agg's binary_error: 0.129628 + 0.00605621\n[45]\tcv_agg's binary_error: 0.128227 + 0.00575449\n[50]\tcv_agg's binary_error: 0.128428 + 0.00791955\n[55]\tcv_agg's binary_error: 0.129828 + 0.00746968\n[60]\tcv_agg's binary_error: 0.129028 + 0.0073518\n[65]\tcv_agg's binary_error: 0.129828 + 0.00577733\n[70]\tcv_agg's binary_error: 0.128428 + 0.00813064\n[75]\tcv_agg's binary_error: 0.128228 + 0.00938672\n[80]\tcv_agg's binary_error: 0.127828 + 0.0099433\n[85]\tcv_agg's binary_error: 0.128228 + 0.00896519\n[90]\tcv_agg's binary_error: 0.127428 + 0.0102333\n[95]\tcv_agg's binary_error: 0.127828 + 0.0100395\n[100]\tcv_agg's binary_error: 0.129229 + 0.0105014\n[105]\tcv_agg's binary_error: 0.128028 + 0.0100439\n[110]\tcv_agg's binary_error: 0.127228 + 0.0107799\n[115]\tcv_agg's binary_error: 0.129629 + 0.0103242\n[120]\tcv_agg's binary_error: 0.130628 + 0.00801669\n[125]\tcv_agg's binary_error: 0.129229 + 0.0100442\n[130]\tcv_agg's binary_error: 0.130628 + 0.00855455\n[135]\tcv_agg's binary_error: 0.131628 + 0.00698646\n",
          "name": "stdout"
        },
        {
          "output_type": "error",
          "ename": "KeyboardInterrupt",
          "evalue": "",
          "traceback": [
            "\u001b[0;31m---------------------------------------------------------------------------\u001b[0m",
            "\u001b[0;31mKeyboardInterrupt\u001b[0m                         Traceback (most recent call last)",
            "\u001b[0;32m<ipython-input-20-6035842a6f5b>\u001b[0m in \u001b[0;36m<module>\u001b[0;34m()\u001b[0m\n\u001b[1;32m      9\u001b[0m                             \u001b[0mnum_boost_round\u001b[0m\u001b[0;34m=\u001b[0m\u001b[0;36m10000\u001b[0m\u001b[0;34m,\u001b[0m\u001b[0;34m\u001b[0m\u001b[0m\n\u001b[1;32m     10\u001b[0m                             \u001b[0mverbose_eval\u001b[0m\u001b[0;34m=\u001b[0m\u001b[0;36m5\u001b[0m\u001b[0;34m,\u001b[0m\u001b[0;34m\u001b[0m\u001b[0m\n\u001b[0;32m---> 11\u001b[0;31m                             \u001b[0mmetrics\u001b[0m\u001b[0;34m=\u001b[0m\u001b[0;34m[\u001b[0m\u001b[0;34m'binary_error'\u001b[0m\u001b[0;34m]\u001b[0m\u001b[0;34m\u001b[0m\u001b[0m\n\u001b[0m\u001b[1;32m     12\u001b[0m                         )\n\u001b[1;32m     13\u001b[0m     \u001b[0mmean_merror\u001b[0m \u001b[0;34m=\u001b[0m \u001b[0mpd\u001b[0m\u001b[0;34m.\u001b[0m\u001b[0mSeries\u001b[0m\u001b[0;34m(\u001b[0m\u001b[0mcv_results\u001b[0m\u001b[0;34m[\u001b[0m\u001b[0;34m'binary_error-mean'\u001b[0m\u001b[0;34m]\u001b[0m\u001b[0;34m)\u001b[0m\u001b[0;34m.\u001b[0m\u001b[0mmin\u001b[0m\u001b[0;34m(\u001b[0m\u001b[0;34m)\u001b[0m\u001b[0;34m\u001b[0m\u001b[0m\n",
            "\u001b[0;32m/opt/conda/lib/python3.6/site-packages/lightgbm/engine.py\u001b[0m in \u001b[0;36mcv\u001b[0;34m(params, train_set, num_boost_round, folds, nfold, stratified, shuffle, metrics, fobj, feval, init_model, feature_name, categorical_feature, early_stopping_rounds, fpreproc, verbose_eval, show_stdv, seed, callbacks)\u001b[0m\n\u001b[1;32m    445\u001b[0m                                     \u001b[0mend_iteration\u001b[0m\u001b[0;34m=\u001b[0m\u001b[0mnum_boost_round\u001b[0m\u001b[0;34m,\u001b[0m\u001b[0;34m\u001b[0m\u001b[0m\n\u001b[1;32m    446\u001b[0m                                     evaluation_result_list=None))\n\u001b[0;32m--> 447\u001b[0;31m         \u001b[0mcvfolds\u001b[0m\u001b[0;34m.\u001b[0m\u001b[0mupdate\u001b[0m\u001b[0;34m(\u001b[0m\u001b[0mfobj\u001b[0m\u001b[0;34m=\u001b[0m\u001b[0mfobj\u001b[0m\u001b[0;34m)\u001b[0m\u001b[0;34m\u001b[0m\u001b[0m\n\u001b[0m\u001b[1;32m    448\u001b[0m         \u001b[0mres\u001b[0m \u001b[0;34m=\u001b[0m \u001b[0m_agg_cv_result\u001b[0m\u001b[0;34m(\u001b[0m\u001b[0mcvfolds\u001b[0m\u001b[0;34m.\u001b[0m\u001b[0meval_valid\u001b[0m\u001b[0;34m(\u001b[0m\u001b[0mfeval\u001b[0m\u001b[0;34m)\u001b[0m\u001b[0;34m)\u001b[0m\u001b[0;34m\u001b[0m\u001b[0m\n\u001b[1;32m    449\u001b[0m         \u001b[0;32mfor\u001b[0m \u001b[0m_\u001b[0m\u001b[0;34m,\u001b[0m \u001b[0mkey\u001b[0m\u001b[0;34m,\u001b[0m \u001b[0mmean\u001b[0m\u001b[0;34m,\u001b[0m \u001b[0m_\u001b[0m\u001b[0;34m,\u001b[0m \u001b[0mstd\u001b[0m \u001b[0;32min\u001b[0m \u001b[0mres\u001b[0m\u001b[0;34m:\u001b[0m\u001b[0;34m\u001b[0m\u001b[0m\n",
            "\u001b[0;32m/opt/conda/lib/python3.6/site-packages/lightgbm/engine.py\u001b[0m in \u001b[0;36mhandlerFunction\u001b[0;34m(*args, **kwargs)\u001b[0m\n\u001b[1;32m    244\u001b[0m             \u001b[0mret\u001b[0m \u001b[0;34m=\u001b[0m \u001b[0;34m[\u001b[0m\u001b[0;34m]\u001b[0m\u001b[0;34m\u001b[0m\u001b[0m\n\u001b[1;32m    245\u001b[0m             \u001b[0;32mfor\u001b[0m \u001b[0mbooster\u001b[0m \u001b[0;32min\u001b[0m \u001b[0mself\u001b[0m\u001b[0;34m.\u001b[0m\u001b[0mboosters\u001b[0m\u001b[0;34m:\u001b[0m\u001b[0;34m\u001b[0m\u001b[0m\n\u001b[0;32m--> 246\u001b[0;31m                 \u001b[0mret\u001b[0m\u001b[0;34m.\u001b[0m\u001b[0mappend\u001b[0m\u001b[0;34m(\u001b[0m\u001b[0mgetattr\u001b[0m\u001b[0;34m(\u001b[0m\u001b[0mbooster\u001b[0m\u001b[0;34m,\u001b[0m \u001b[0mname\u001b[0m\u001b[0;34m)\u001b[0m\u001b[0;34m(\u001b[0m\u001b[0;34m*\u001b[0m\u001b[0margs\u001b[0m\u001b[0;34m,\u001b[0m \u001b[0;34m**\u001b[0m\u001b[0mkwargs\u001b[0m\u001b[0;34m)\u001b[0m\u001b[0;34m)\u001b[0m\u001b[0;34m\u001b[0m\u001b[0m\n\u001b[0m\u001b[1;32m    247\u001b[0m             \u001b[0;32mreturn\u001b[0m \u001b[0mret\u001b[0m\u001b[0;34m\u001b[0m\u001b[0m\n\u001b[1;32m    248\u001b[0m         \u001b[0;32mreturn\u001b[0m \u001b[0mhandlerFunction\u001b[0m\u001b[0;34m\u001b[0m\u001b[0m\n",
            "\u001b[0;32m/opt/conda/lib/python3.6/site-packages/lightgbm/basic.py\u001b[0m in \u001b[0;36mupdate\u001b[0;34m(self, train_set, fobj)\u001b[0m\n\u001b[1;32m   1522\u001b[0m             _safe_call(_LIB.LGBM_BoosterUpdateOneIter(\n\u001b[1;32m   1523\u001b[0m                 \u001b[0mself\u001b[0m\u001b[0;34m.\u001b[0m\u001b[0mhandle\u001b[0m\u001b[0;34m,\u001b[0m\u001b[0;34m\u001b[0m\u001b[0m\n\u001b[0;32m-> 1524\u001b[0;31m                 ctypes.byref(is_finished)))\n\u001b[0m\u001b[1;32m   1525\u001b[0m             \u001b[0mself\u001b[0m\u001b[0;34m.\u001b[0m\u001b[0m__is_predicted_cur_iter\u001b[0m \u001b[0;34m=\u001b[0m \u001b[0;34m[\u001b[0m\u001b[0;32mFalse\u001b[0m \u001b[0;32mfor\u001b[0m \u001b[0m_\u001b[0m \u001b[0;32min\u001b[0m \u001b[0mrange_\u001b[0m\u001b[0;34m(\u001b[0m\u001b[0mself\u001b[0m\u001b[0;34m.\u001b[0m\u001b[0m__num_dataset\u001b[0m\u001b[0;34m)\u001b[0m\u001b[0;34m]\u001b[0m\u001b[0;34m\u001b[0m\u001b[0m\n\u001b[1;32m   1526\u001b[0m             \u001b[0;32mreturn\u001b[0m \u001b[0mis_finished\u001b[0m\u001b[0;34m.\u001b[0m\u001b[0mvalue\u001b[0m \u001b[0;34m==\u001b[0m \u001b[0;36m1\u001b[0m\u001b[0;34m\u001b[0m\u001b[0m\n",
            "\u001b[0;31mKeyboardInterrupt\u001b[0m: "
          ]
        }
      ]
    },
    {
      "metadata": {
        "trusted": true,
        "_uuid": "1e70fe943c913429b2e08cc95008bcef1232b169"
      },
      "cell_type": "code",
      "source": "print(\"调参2：降低过拟\")\nfor min_data_in_leaf in range(10,200,5):       \n    lgb_params['min_data_in_leaf'] = min_data_in_leaf\n\n    \n    cv_results = lgb.cv(\n                            lgb_params,\n                            dtrain,\n                            nfold=3,\n                            early_stopping_rounds=100,\n                            num_boost_round=10000,\n                            verbose_eval=5,\n                            metrics=['binary_error']\n                            )\n\n    \n    mean_merror = pd.Series(cv_results['binary_error-mean']).min()\n    \n    boost_rounds = pd.Series(cv_results['binary_error-mean']).argmin()\n\n    \n    if mean_merror < min_merror:\n        \n        min_merror = mean_merror\n        \n        best_params['min_data_in_leaf'] = min_data_in_leaf\n\nlgb_params['min_data_in_leaf'] = best_params['min_data_in_leaf']",
      "execution_count": 22,
      "outputs": [
        {
          "output_type": "stream",
          "text": "调参2：降低过拟\n[5]\tcv_agg's binary_error: 0.142629 + 0.00232864\n[10]\tcv_agg's binary_error: 0.139828 + 0.00300343\n[15]\tcv_agg's binary_error: 0.140828 + 0.00316522\n[20]\tcv_agg's binary_error: 0.141829 + 0.00302427\n[25]\tcv_agg's binary_error: 0.14043 + 0.00640837\n[30]\tcv_agg's binary_error: 0.138429 + 0.00479559\n[35]\tcv_agg's binary_error: 0.136029 + 0.00527491\n[40]\tcv_agg's binary_error: 0.138229 + 0.00402882\n[45]\tcv_agg's binary_error: 0.137229 + 0.00560896\n[50]\tcv_agg's binary_error: 0.136028 + 0.00448101\n[55]\tcv_agg's binary_error: 0.134828 + 0.00445047\n[60]\tcv_agg's binary_error: 0.133828 + 0.00392568\n[65]\tcv_agg's binary_error: 0.134828 + 0.00302951\n[70]\tcv_agg's binary_error: 0.134028 + 0.00399771\n[75]\tcv_agg's binary_error: 0.135629 + 0.00515289\n[80]\tcv_agg's binary_error: 0.133228 + 0.00605721\n",
          "name": "stdout"
        },
        {
          "output_type": "error",
          "ename": "KeyboardInterrupt",
          "evalue": "",
          "traceback": [
            "\u001b[0;31m---------------------------------------------------------------------------\u001b[0m",
            "\u001b[0;31mKeyboardInterrupt\u001b[0m                         Traceback (most recent call last)",
            "\u001b[0;32m<ipython-input-22-99bbb1f9307e>\u001b[0m in \u001b[0;36m<module>\u001b[0;34m()\u001b[0m\n\u001b[1;32m     11\u001b[0m                             \u001b[0mnum_boost_round\u001b[0m\u001b[0;34m=\u001b[0m\u001b[0;36m10000\u001b[0m\u001b[0;34m,\u001b[0m\u001b[0;34m\u001b[0m\u001b[0m\n\u001b[1;32m     12\u001b[0m                             \u001b[0mverbose_eval\u001b[0m\u001b[0;34m=\u001b[0m\u001b[0;36m5\u001b[0m\u001b[0;34m,\u001b[0m\u001b[0;34m\u001b[0m\u001b[0m\n\u001b[0;32m---> 13\u001b[0;31m                             \u001b[0mmetrics\u001b[0m\u001b[0;34m=\u001b[0m\u001b[0;34m[\u001b[0m\u001b[0;34m'binary_error'\u001b[0m\u001b[0;34m]\u001b[0m\u001b[0;34m\u001b[0m\u001b[0m\n\u001b[0m\u001b[1;32m     14\u001b[0m                             )\n\u001b[1;32m     15\u001b[0m \u001b[0;34m\u001b[0m\u001b[0m\n",
            "\u001b[0;32m/opt/conda/lib/python3.6/site-packages/lightgbm/engine.py\u001b[0m in \u001b[0;36mcv\u001b[0;34m(params, train_set, num_boost_round, folds, nfold, stratified, shuffle, metrics, fobj, feval, init_model, feature_name, categorical_feature, early_stopping_rounds, fpreproc, verbose_eval, show_stdv, seed, callbacks)\u001b[0m\n\u001b[1;32m    445\u001b[0m                                     \u001b[0mend_iteration\u001b[0m\u001b[0;34m=\u001b[0m\u001b[0mnum_boost_round\u001b[0m\u001b[0;34m,\u001b[0m\u001b[0;34m\u001b[0m\u001b[0m\n\u001b[1;32m    446\u001b[0m                                     evaluation_result_list=None))\n\u001b[0;32m--> 447\u001b[0;31m         \u001b[0mcvfolds\u001b[0m\u001b[0;34m.\u001b[0m\u001b[0mupdate\u001b[0m\u001b[0;34m(\u001b[0m\u001b[0mfobj\u001b[0m\u001b[0;34m=\u001b[0m\u001b[0mfobj\u001b[0m\u001b[0;34m)\u001b[0m\u001b[0;34m\u001b[0m\u001b[0m\n\u001b[0m\u001b[1;32m    448\u001b[0m         \u001b[0mres\u001b[0m \u001b[0;34m=\u001b[0m \u001b[0m_agg_cv_result\u001b[0m\u001b[0;34m(\u001b[0m\u001b[0mcvfolds\u001b[0m\u001b[0;34m.\u001b[0m\u001b[0meval_valid\u001b[0m\u001b[0;34m(\u001b[0m\u001b[0mfeval\u001b[0m\u001b[0;34m)\u001b[0m\u001b[0;34m)\u001b[0m\u001b[0;34m\u001b[0m\u001b[0m\n\u001b[1;32m    449\u001b[0m         \u001b[0;32mfor\u001b[0m \u001b[0m_\u001b[0m\u001b[0;34m,\u001b[0m \u001b[0mkey\u001b[0m\u001b[0;34m,\u001b[0m \u001b[0mmean\u001b[0m\u001b[0;34m,\u001b[0m \u001b[0m_\u001b[0m\u001b[0;34m,\u001b[0m \u001b[0mstd\u001b[0m \u001b[0;32min\u001b[0m \u001b[0mres\u001b[0m\u001b[0;34m:\u001b[0m\u001b[0;34m\u001b[0m\u001b[0m\n",
            "\u001b[0;32m/opt/conda/lib/python3.6/site-packages/lightgbm/engine.py\u001b[0m in \u001b[0;36mhandlerFunction\u001b[0;34m(*args, **kwargs)\u001b[0m\n\u001b[1;32m    244\u001b[0m             \u001b[0mret\u001b[0m \u001b[0;34m=\u001b[0m \u001b[0;34m[\u001b[0m\u001b[0;34m]\u001b[0m\u001b[0;34m\u001b[0m\u001b[0m\n\u001b[1;32m    245\u001b[0m             \u001b[0;32mfor\u001b[0m \u001b[0mbooster\u001b[0m \u001b[0;32min\u001b[0m \u001b[0mself\u001b[0m\u001b[0;34m.\u001b[0m\u001b[0mboosters\u001b[0m\u001b[0;34m:\u001b[0m\u001b[0;34m\u001b[0m\u001b[0m\n\u001b[0;32m--> 246\u001b[0;31m                 \u001b[0mret\u001b[0m\u001b[0;34m.\u001b[0m\u001b[0mappend\u001b[0m\u001b[0;34m(\u001b[0m\u001b[0mgetattr\u001b[0m\u001b[0;34m(\u001b[0m\u001b[0mbooster\u001b[0m\u001b[0;34m,\u001b[0m \u001b[0mname\u001b[0m\u001b[0;34m)\u001b[0m\u001b[0;34m(\u001b[0m\u001b[0;34m*\u001b[0m\u001b[0margs\u001b[0m\u001b[0;34m,\u001b[0m \u001b[0;34m**\u001b[0m\u001b[0mkwargs\u001b[0m\u001b[0;34m)\u001b[0m\u001b[0;34m)\u001b[0m\u001b[0;34m\u001b[0m\u001b[0m\n\u001b[0m\u001b[1;32m    247\u001b[0m             \u001b[0;32mreturn\u001b[0m \u001b[0mret\u001b[0m\u001b[0;34m\u001b[0m\u001b[0m\n\u001b[1;32m    248\u001b[0m         \u001b[0;32mreturn\u001b[0m \u001b[0mhandlerFunction\u001b[0m\u001b[0;34m\u001b[0m\u001b[0m\n",
            "\u001b[0;32m/opt/conda/lib/python3.6/site-packages/lightgbm/basic.py\u001b[0m in \u001b[0;36mupdate\u001b[0;34m(self, train_set, fobj)\u001b[0m\n\u001b[1;32m   1522\u001b[0m             _safe_call(_LIB.LGBM_BoosterUpdateOneIter(\n\u001b[1;32m   1523\u001b[0m                 \u001b[0mself\u001b[0m\u001b[0;34m.\u001b[0m\u001b[0mhandle\u001b[0m\u001b[0;34m,\u001b[0m\u001b[0;34m\u001b[0m\u001b[0m\n\u001b[0;32m-> 1524\u001b[0;31m                 ctypes.byref(is_finished)))\n\u001b[0m\u001b[1;32m   1525\u001b[0m             \u001b[0mself\u001b[0m\u001b[0;34m.\u001b[0m\u001b[0m__is_predicted_cur_iter\u001b[0m \u001b[0;34m=\u001b[0m \u001b[0;34m[\u001b[0m\u001b[0;32mFalse\u001b[0m \u001b[0;32mfor\u001b[0m \u001b[0m_\u001b[0m \u001b[0;32min\u001b[0m \u001b[0mrange_\u001b[0m\u001b[0;34m(\u001b[0m\u001b[0mself\u001b[0m\u001b[0;34m.\u001b[0m\u001b[0m__num_dataset\u001b[0m\u001b[0;34m)\u001b[0m\u001b[0;34m]\u001b[0m\u001b[0;34m\u001b[0m\u001b[0m\n\u001b[1;32m   1526\u001b[0m             \u001b[0;32mreturn\u001b[0m \u001b[0mis_finished\u001b[0m\u001b[0;34m.\u001b[0m\u001b[0mvalue\u001b[0m \u001b[0;34m==\u001b[0m \u001b[0;36m1\u001b[0m\u001b[0;34m\u001b[0m\u001b[0m\n",
            "\u001b[0;31mKeyboardInterrupt\u001b[0m: "
          ]
        }
      ]
    },
    {
      "metadata": {
        "_uuid": "154050ff92db429afa1d5298a10a773ad5912659"
      },
      "cell_type": "markdown",
      "source": "### 本地CV"
    },
    {
      "metadata": {
        "trusted": true,
        "_uuid": "bf2076d487f721dcdcdde34498f06c861213c20c",
        "collapsed": true
      },
      "cell_type": "code",
      "source": "lgb.cv(lgb_params,dtrain,feval=evalMetric,early_stopping_rounds=100,verbose_eval=5,num_boost_round=10000,nfold=3,metrics=['evalMetric'])",
      "execution_count": 13,
      "outputs": []
    },
    {
      "metadata": {
        "_uuid": "774b9be58123a0d82d7650fb4a2bb7a3fd12661c"
      },
      "cell_type": "markdown",
      "source": "## 训练"
    },
    {
      "metadata": {
        "trusted": true,
        "_uuid": "8e51114e16646c8a28b36e69728247ed285acc59",
        "collapsed": true
      },
      "cell_type": "code",
      "source": "model =lgb.train(lgb_params,dtrain,feval=evalMetric,verbose_eval=5,num_boost_round=300,valid_sets=[dtrain])",
      "execution_count": 14,
      "outputs": []
    },
    {
      "metadata": {
        "_uuid": "645c23a6ceccba9e0efae13bdaba6d5072b04ad2"
      },
      "cell_type": "markdown",
      "source": "## XGB"
    },
    {
      "metadata": {
        "trusted": true,
        "_uuid": "5ebaa56aa294adf71d55e0b7ed5b40c128a5c6ed"
      },
      "cell_type": "code",
      "source": "params = {\n    'booster': 'gbtree',\n    # 'objective': 'multi:softmax',  # 多分类的问题、\n    # 'objective': 'multi:softprob',   # 多分类概率\n    'objective': 'binary:logistic',\n    'eval_metric': 'logloss',\n    # 'num_class': 9,  # 类别数，与 multisoftmax 并用\n    'gamma': 0.1,  # 用于控制是否后剪枝的参数,越大越保守，一般0.1、0.2这样子。\n    'max_depth': 8,  # 构建树的深度，越大越容易过拟合\n    'alpha': 0,   # L1正则化系数\n    'lambda': 10,  # 控制模型复杂度的权重值的L2正则化项参数，参数越大，模型越不容易过拟合。\n    'subsample': 0.7,  # 随机采样训练样本\n    'colsample_bytree': 0.5,  # 生成树时进行的列采样\n    'min_child_weight': 3,\n    # 这个参数默认是 1，是每个叶子里面 h 的和至少是多少，对正负样本不均衡时的 0-1 分类而言\n    # ，假设 h 在 0.01 附近，min_child_weight 为 1 意味着叶子节点中最少需要包含 100 个样本。\n    # 这个参数非常影响结果，控制叶子节点中二阶导的和的最小值，该参数值越小，越容易 overfitting。\n    'silent': 0,  # 设置成1则没有运行信息输出，最好是设置为0.\n    'eta': 0.03,  # 如同学习率\n    'seed': 1000,\n    'nthread': -1,  # cpu 线程数\n    'missing': 1,\n#     'scale_pos_weight': (np.sum(y==0)/np.sum(y==1))  # 用来处理正负样本不均衡的问题,通常取：sum(negative cases) / sum(positive cases)\n    # 'eval_metric': 'auc'\n}",
      "execution_count": 25,
      "outputs": []
    },
    {
      "metadata": {
        "trusted": true,
        "_uuid": "5d04f0480ce73a28e5dfa112907a641ff40aad5c"
      },
      "cell_type": "code",
      "source": "# dtrain = lgb.Dataset(train.drop(['uid','label'],axis=1),label=train.label)\n# dtest = lgb.Dataset(test.drop(['uid'],axis=1))\nxgb_train = xgb.DMatrix(train.drop(['uid','label'],axis=1), label=train.label)  \nxgb_test = xgb.DMatrix(test.drop(['uid'],axis=1))  ",
      "execution_count": 28,
      "outputs": []
    },
    {
      "metadata": {
        "trusted": true,
        "_uuid": "c347c71716c0a6accbf69c946a0d241d3c380cd1"
      },
      "cell_type": "code",
      "source": "xgb_cv = xgb.cv(params,xgb_train, num_boost_round=200, nfold=4, early_stopping_rounds=200, verbose_eval=True)  ",
      "execution_count": 31,
      "outputs": [
        {
          "output_type": "stream",
          "text": "[0]\ttrain-logloss:0.677196+0.000184424\ttest-logloss:0.678071+0.000213585\n[1]\ttrain-logloss:0.661992+0.000698791\ttest-logloss:0.663944+0.000393933\n[2]\ttrain-logloss:0.647152+0.000836595\ttest-logloss:0.650181+0.000562799\n[3]\ttrain-logloss:0.63308+0.00140697\ttest-logloss:0.636991+0.000646776\n[4]\ttrain-logloss:0.620178+0.00146467\ttest-logloss:0.624771+0.000261667\n[5]\ttrain-logloss:0.607683+0.00188149\ttest-logloss:0.612988+0.000714842\n[6]\ttrain-logloss:0.595636+0.0024642\ttest-logloss:0.601864+0.000669978\n[7]\ttrain-logloss:0.584355+0.00271352\ttest-logloss:0.591513+0.000553767\n[8]\ttrain-logloss:0.573418+0.00271895\ttest-logloss:0.581444+0.00100247\n[9]\ttrain-logloss:0.562688+0.003035\ttest-logloss:0.571832+0.00129969\n[10]\ttrain-logloss:0.552752+0.00246128\ttest-logloss:0.562687+0.00156511\n[11]\ttrain-logloss:0.542906+0.00267884\ttest-logloss:0.553708+0.00175801\n[12]\ttrain-logloss:0.533721+0.00284291\ttest-logloss:0.545276+0.0020028\n[13]\ttrain-logloss:0.52421+0.00269459\ttest-logloss:0.536525+0.00251202\n[14]\ttrain-logloss:0.515341+0.0030053\ttest-logloss:0.528572+0.00244771\n[15]\ttrain-logloss:0.507278+0.00367236\ttest-logloss:0.521289+0.00241935\n[16]\ttrain-logloss:0.499103+0.00397049\ttest-logloss:0.513688+0.00236552\n[17]\ttrain-logloss:0.491881+0.00441347\ttest-logloss:0.507349+0.00239578\n[18]\ttrain-logloss:0.484603+0.00488244\ttest-logloss:0.500856+0.00284487\n[19]\ttrain-logloss:0.477436+0.00512731\ttest-logloss:0.494388+0.00278976\n[20]\ttrain-logloss:0.470657+0.00552178\ttest-logloss:0.488248+0.00309103\n",
          "name": "stdout"
        },
        {
          "output_type": "error",
          "ename": "KeyboardInterrupt",
          "evalue": "",
          "traceback": [
            "\u001b[0;31m---------------------------------------------------------------------------\u001b[0m",
            "\u001b[0;31mKeyboardInterrupt\u001b[0m                         Traceback (most recent call last)",
            "\u001b[0;32m<ipython-input-31-f64fcdc90062>\u001b[0m in \u001b[0;36m<module>\u001b[0;34m()\u001b[0m\n\u001b[0;32m----> 1\u001b[0;31m \u001b[0mxgb_cv\u001b[0m \u001b[0;34m=\u001b[0m \u001b[0mxgb\u001b[0m\u001b[0;34m.\u001b[0m\u001b[0mcv\u001b[0m\u001b[0;34m(\u001b[0m\u001b[0mparams\u001b[0m\u001b[0;34m,\u001b[0m\u001b[0mxgb_train\u001b[0m\u001b[0;34m,\u001b[0m \u001b[0mnum_boost_round\u001b[0m\u001b[0;34m=\u001b[0m\u001b[0;36m200\u001b[0m\u001b[0;34m,\u001b[0m \u001b[0mnfold\u001b[0m\u001b[0;34m=\u001b[0m\u001b[0;36m4\u001b[0m\u001b[0;34m,\u001b[0m \u001b[0mearly_stopping_rounds\u001b[0m\u001b[0;34m=\u001b[0m\u001b[0;36m200\u001b[0m\u001b[0;34m,\u001b[0m \u001b[0mverbose_eval\u001b[0m\u001b[0;34m=\u001b[0m\u001b[0;32mTrue\u001b[0m\u001b[0;34m)\u001b[0m\u001b[0;34m\u001b[0m\u001b[0m\n\u001b[0m",
            "\u001b[0;32m/opt/conda/lib/python3.6/site-packages/xgboost-0.71-py3.6.egg/xgboost/training.py\u001b[0m in \u001b[0;36mcv\u001b[0;34m(params, dtrain, num_boost_round, nfold, stratified, folds, metrics, obj, feval, maximize, early_stopping_rounds, fpreproc, as_pandas, verbose_eval, show_stdv, seed, callbacks, shuffle)\u001b[0m\n\u001b[1;32m    404\u001b[0m                            evaluation_result_list=None))\n\u001b[1;32m    405\u001b[0m         \u001b[0;32mfor\u001b[0m \u001b[0mfold\u001b[0m \u001b[0;32min\u001b[0m \u001b[0mcvfolds\u001b[0m\u001b[0;34m:\u001b[0m\u001b[0;34m\u001b[0m\u001b[0m\n\u001b[0;32m--> 406\u001b[0;31m             \u001b[0mfold\u001b[0m\u001b[0;34m.\u001b[0m\u001b[0mupdate\u001b[0m\u001b[0;34m(\u001b[0m\u001b[0mi\u001b[0m\u001b[0;34m,\u001b[0m \u001b[0mobj\u001b[0m\u001b[0;34m)\u001b[0m\u001b[0;34m\u001b[0m\u001b[0m\n\u001b[0m\u001b[1;32m    407\u001b[0m         \u001b[0mres\u001b[0m \u001b[0;34m=\u001b[0m \u001b[0maggcv\u001b[0m\u001b[0;34m(\u001b[0m\u001b[0;34m[\u001b[0m\u001b[0mf\u001b[0m\u001b[0;34m.\u001b[0m\u001b[0meval\u001b[0m\u001b[0;34m(\u001b[0m\u001b[0mi\u001b[0m\u001b[0;34m,\u001b[0m \u001b[0mfeval\u001b[0m\u001b[0;34m)\u001b[0m \u001b[0;32mfor\u001b[0m \u001b[0mf\u001b[0m \u001b[0;32min\u001b[0m \u001b[0mcvfolds\u001b[0m\u001b[0;34m]\u001b[0m\u001b[0;34m)\u001b[0m\u001b[0;34m\u001b[0m\u001b[0m\n\u001b[1;32m    408\u001b[0m \u001b[0;34m\u001b[0m\u001b[0m\n",
            "\u001b[0;32m/opt/conda/lib/python3.6/site-packages/xgboost-0.71-py3.6.egg/xgboost/training.py\u001b[0m in \u001b[0;36mupdate\u001b[0;34m(self, iteration, fobj)\u001b[0m\n\u001b[1;32m    216\u001b[0m     \u001b[0;32mdef\u001b[0m \u001b[0mupdate\u001b[0m\u001b[0;34m(\u001b[0m\u001b[0mself\u001b[0m\u001b[0;34m,\u001b[0m \u001b[0miteration\u001b[0m\u001b[0;34m,\u001b[0m \u001b[0mfobj\u001b[0m\u001b[0;34m)\u001b[0m\u001b[0;34m:\u001b[0m\u001b[0;34m\u001b[0m\u001b[0m\n\u001b[1;32m    217\u001b[0m         \u001b[0;34m\"\"\"\"Update the boosters for one iteration\"\"\"\u001b[0m\u001b[0;34m\u001b[0m\u001b[0m\n\u001b[0;32m--> 218\u001b[0;31m         \u001b[0mself\u001b[0m\u001b[0;34m.\u001b[0m\u001b[0mbst\u001b[0m\u001b[0;34m.\u001b[0m\u001b[0mupdate\u001b[0m\u001b[0;34m(\u001b[0m\u001b[0mself\u001b[0m\u001b[0;34m.\u001b[0m\u001b[0mdtrain\u001b[0m\u001b[0;34m,\u001b[0m \u001b[0miteration\u001b[0m\u001b[0;34m,\u001b[0m \u001b[0mfobj\u001b[0m\u001b[0;34m)\u001b[0m\u001b[0;34m\u001b[0m\u001b[0m\n\u001b[0m\u001b[1;32m    219\u001b[0m \u001b[0;34m\u001b[0m\u001b[0m\n\u001b[1;32m    220\u001b[0m     \u001b[0;32mdef\u001b[0m \u001b[0meval\u001b[0m\u001b[0;34m(\u001b[0m\u001b[0mself\u001b[0m\u001b[0;34m,\u001b[0m \u001b[0miteration\u001b[0m\u001b[0;34m,\u001b[0m \u001b[0mfeval\u001b[0m\u001b[0;34m)\u001b[0m\u001b[0;34m:\u001b[0m\u001b[0;34m\u001b[0m\u001b[0m\n",
            "\u001b[0;32m/opt/conda/lib/python3.6/site-packages/xgboost-0.71-py3.6.egg/xgboost/core.py\u001b[0m in \u001b[0;36mupdate\u001b[0;34m(self, dtrain, iteration, fobj)\u001b[0m\n\u001b[1;32m    892\u001b[0m         \u001b[0;32mif\u001b[0m \u001b[0mfobj\u001b[0m \u001b[0;32mis\u001b[0m \u001b[0;32mNone\u001b[0m\u001b[0;34m:\u001b[0m\u001b[0;34m\u001b[0m\u001b[0m\n\u001b[1;32m    893\u001b[0m             _check_call(_LIB.XGBoosterUpdateOneIter(self.handle, ctypes.c_int(iteration),\n\u001b[0;32m--> 894\u001b[0;31m                                                     dtrain.handle))\n\u001b[0m\u001b[1;32m    895\u001b[0m         \u001b[0;32melse\u001b[0m\u001b[0;34m:\u001b[0m\u001b[0;34m\u001b[0m\u001b[0m\n\u001b[1;32m    896\u001b[0m             \u001b[0mpred\u001b[0m \u001b[0;34m=\u001b[0m \u001b[0mself\u001b[0m\u001b[0;34m.\u001b[0m\u001b[0mpredict\u001b[0m\u001b[0;34m(\u001b[0m\u001b[0mdtrain\u001b[0m\u001b[0;34m)\u001b[0m\u001b[0;34m\u001b[0m\u001b[0m\n",
            "\u001b[0;31mKeyboardInterrupt\u001b[0m: "
          ]
        }
      ]
    },
    {
      "metadata": {
        "trusted": true,
        "scrolled": true,
        "_uuid": "f1e68cbeea78e2afb70f4cb6d83ffb232da37246"
      },
      "cell_type": "code",
      "source": "model_xgb = xgb.train(params,xgb_train,num_boost_round=10,evals=(),obj=None,feval=None,maximize=False,early_stopping_rounds=None,\nevals_result=None,verbose_eval=True,learning_rates=None,xgb_model=None)\n",
      "execution_count": 34,
      "outputs": []
    },
    {
      "metadata": {
        "trusted": true,
        "collapsed": true,
        "_uuid": "0d3fd1319018441ef18ccce0fe7275ef771edc90"
      },
      "cell_type": "code",
      "source": "preds_xgb = model_xgb.predict(xgb_test)  ",
      "execution_count": null,
      "outputs": []
    },
    {
      "metadata": {
        "_uuid": "f420b6324cb5a7c50857f22785d03d48fd9f0f00"
      },
      "cell_type": "markdown",
      "source": "### LGB预测"
    },
    {
      "metadata": {
        "collapsed": true,
        "trusted": true,
        "_uuid": "8d6c828a442bfd4d137a2ba5681af7cb05a70166"
      },
      "cell_type": "code",
      "source": "pred=model.predict(test.drop(['uid'],axis=1))",
      "execution_count": 15,
      "outputs": []
    },
    {
      "metadata": {
        "collapsed": true,
        "trusted": true,
        "_uuid": "2299c8139488fe428bf247a3a3aea4dd05444dff"
      },
      "cell_type": "code",
      "source": "res =pd.DataFrame({'uid':test.uid,'label':pred})\n",
      "execution_count": 16,
      "outputs": []
    },
    {
      "metadata": {
        "collapsed": true,
        "trusted": true,
        "_uuid": "57bbbf94fb287037180b9b78489c43433827a0d7"
      },
      "cell_type": "code",
      "source": "res=res.sort_values(by='label',ascending=False)\nres.label=res.label.map(lambda x: 1 if x>=0.28 else 0)\nres.label = res.label.map(lambda x: int(x))",
      "execution_count": 17,
      "outputs": []
    },
    {
      "metadata": {
        "collapsed": true,
        "trusted": true,
        "_uuid": "f71a5db38cbf82cd1c6d46a1c7ce2632a1265c91"
      },
      "cell_type": "code",
      "source": "res.to_csv('fianal_answer.csv',index=False,header=False,sep=',',columns=['uid','label'])",
      "execution_count": 19,
      "outputs": []
    },
    {
      "metadata": {
        "collapsed": true,
        "trusted": false,
        "_uuid": "0c810f4ab3d9fc3db5f1bb6ef0ea087e5dd258b6"
      },
      "cell_type": "code",
      "source": "",
      "execution_count": null,
      "outputs": []
    }
  ],
  "metadata": {
    "kernelspec": {
      "display_name": "Python 3",
      "language": "python",
      "name": "python3"
    },
    "language_info": {
      "name": "python",
      "version": "3.6.5",
      "mimetype": "text/x-python",
      "codemirror_mode": {
        "name": "ipython",
        "version": 3
      },
      "pygments_lexer": "ipython3",
      "nbconvert_exporter": "python",
      "file_extension": ".py"
    }
  },
  "nbformat": 4,
  "nbformat_minor": 1
}
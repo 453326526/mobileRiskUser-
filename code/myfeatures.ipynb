{
  "cells": [
    {
      "metadata": {
        "collapsed": true,
        "trusted": true,
        "_uuid": "8ba2cfcb76e591c2bdde725ee97e3b2cc5a4129c"
      },
      "cell_type": "code",
      "source": "\nimport pandas as pd\nimport numpy as np\nimport lightgbm as lgb\nfrom sklearn import metrics\nimport matplotlib.pyplot as plt\nimport seaborn as sns",
      "execution_count": 1,
      "outputs": []
    },
    {
      "metadata": {
        "trusted": true,
        "_uuid": "86041213f1d7e45484bdc041d3be84a9d274576e"
      },
      "cell_type": "code",
      "source": "uid_train = pd.read_csv('../input/mydata/uid_train.txt',sep='\\t',header=None,names=('uid','label'))\nvoice_train = pd.read_csv('../input/mydata/voice_train.txt',sep='\\t',header=None,names=('uid','opp_num','opp_head','opp_len','start_time','end_time','call_type','in_out'),dtype={'start_time':str,'end_time':str})\nsms_train = pd.read_csv('../input/mydata/sms_train.txt',sep='\\t',header=None,names=('uid','opp_num','opp_head','opp_len','start_time','in_out'),dtype={'start_time':str})\nwa_train = pd.read_csv('../input/mydata/wa_train.txt',sep='\\t',header=None,names=('uid','wa_name','visit_cnt','visit_dura','up_flow','down_flow','wa_type','date'),dtype={'date':str})",
      "execution_count": 2,
      "outputs": [
        {
          "output_type": "stream",
          "text": "/opt/conda/lib/python3.6/site-packages/IPython/core/interactiveshell.py:2698: DtypeWarning: Columns (2) have mixed types. Specify dtype option on import or set low_memory=False.\n  interactivity=interactivity, compiler=compiler, result=result)\n",
          "name": "stderr"
        }
      ]
    },
    {
      "metadata": {
        "trusted": true,
        "_uuid": "b4ea1aa24e36067dcc0393349eeb59887dd52c41",
        "collapsed": true
      },
      "cell_type": "code",
      "source": "voice_test = pd.read_csv('../input/mydata2/voice_test_b.txt',sep='\\t',header=None,names=('uid','opp_num','opp_head','opp_len','start_time','end_time','call_type','in_out'),dtype={'start_time':str,'end_time':str})\nsms_test = pd.read_csv('../input/mydata2/sms_test_b.txt',sep='\\t',header=None,names=('uid','opp_num','opp_head','opp_len','start_time','in_out'),dtype={'start_time':str})\nwa_test = pd.read_csv('../input/mydata2/wa_test_b.txt',sep='\\t',header=None,names=('uid','wa_name','visit_cnt','visit_dura','up_flow','down_flow','wa_type','date'),dtype={'date':str})",
      "execution_count": 3,
      "outputs": []
    },
    {
      "metadata": {
        "trusted": true,
        "_uuid": "1665c19106822bcf2ffe6e7a8521fce50b5c6108",
        "collapsed": true
      },
      "cell_type": "code",
      "source": "uid_test = pd.DataFrame({'uid':pd.unique(wa_test['uid'])})\nuid_test.to_csv('uid_test_a.txt',index=None)",
      "execution_count": 4,
      "outputs": []
    },
    {
      "metadata": {
        "collapsed": true,
        "trusted": true,
        "_uuid": "a9122b7798894ecf9fcc7f895966cfb7e0aa1951"
      },
      "cell_type": "code",
      "source": "voice = pd.concat([voice_train,voice_test],axis=0)\nsms = pd.concat([sms_train,sms_test],axis=0)\nwa = pd.concat([wa_train,wa_test],axis=0)",
      "execution_count": 5,
      "outputs": []
    },
    {
      "metadata": {
        "collapsed": true,
        "trusted": false,
        "_uuid": "2e6340ccafbbeca79f3e96b6b48ae33f92faf9da"
      },
      "cell_type": "code",
      "source": "",
      "execution_count": null,
      "outputs": []
    },
    {
      "metadata": {
        "_uuid": "9175af4a18d6edc446984374294347f0830435bc"
      },
      "cell_type": "markdown",
      "source": "##  baseline "
    },
    {
      "metadata": {
        "_uuid": "62e5203a94600afb0b04a8ba7f01e0e1021c7a6a"
      },
      "cell_type": "markdown",
      "source": "### 通话记录"
    },
    {
      "metadata": {
        "trusted": true,
        "_uuid": "56579222ae40924cdbd8ee322ad008634d6c7dc5"
      },
      "cell_type": "code",
      "source": "voice_opp_num = voice.groupby(['uid'])['opp_num'].agg({'unique_count': lambda x: len(pd.unique(x)),'count':'count'}).add_prefix('voice_opp_num_').reset_index()\n\nvoice_opp_head=voice.groupby(['uid'])['opp_head'].agg({'unique_count': lambda x: len(pd.unique(x))}).add_prefix('voice_opp_head_').reset_index()\n\nvoice_opp_len=voice.groupby(['uid','opp_len'])['uid'].count().unstack().add_prefix('voice_opp_len_').reset_index().fillna(0)\n\nvoice_call_type = voice.groupby(['uid','call_type'])['uid'].count().unstack().add_prefix('voice_call_type_').reset_index().fillna(0)\n\nvoice_in_out = voice.groupby(['uid','in_out'])['uid'].count().unstack().add_prefix('voice_in_out_').reset_index().fillna(0)\n# voice_end_time = voice.groupby(['uid'])['end_time'].agg({'unique_count': lambda x: len(pd.unique(x)),'count':'count'}).add_prefix('end_time_').reset_index().fillna(0)\n# voice_start_time = voice.groupby(['uid'])['start_time'].agg({'unique_count': lambda x: len(pd.unique(x)),'count':'count'}).add_prefix('start_time_').reset_index().fillna(0)",
      "execution_count": 6,
      "outputs": [
        {
          "output_type": "stream",
          "text": "/opt/conda/lib/python3.6/site-packages/ipykernel_launcher.py:1: FutureWarning: using a dict on a Series for aggregation\nis deprecated and will be removed in a future version\n  \"\"\"Entry point for launching an IPython kernel.\n/opt/conda/lib/python3.6/site-packages/ipykernel_launcher.py:3: FutureWarning: using a dict on a Series for aggregation\nis deprecated and will be removed in a future version\n  This is separate from the ipykernel package so we can avoid doing imports until\n",
          "name": "stderr"
        }
      ]
    },
    {
      "metadata": {
        "trusted": true,
        "_uuid": "b49fab366e89f49f4e5af61b8027f07978f77194",
        "scrolled": true,
        "collapsed": true
      },
      "cell_type": "code",
      "source": "voice.start_time= voice.start_time.astype(np.int32) \nvoice.end_time= voice.end_time.astype(np.int32) \nsms.start_time= sms.start_time.astype(np.int32) \n\n# voice_gap_time = voice.groupby(['uid'])['start_time'].agg(['std','max','min','median','mean','sum']).add_prefix('voice_gap_time_').reset_index()",
      "execution_count": 7,
      "outputs": []
    },
    {
      "metadata": {
        "trusted": true,
        "_uuid": "7d73caa5317721a9bbf31b3cf6174fba2a22c455",
        "collapsed": true
      },
      "cell_type": "code",
      "source": "# voice_gap_time = voice.groupby(['uid'])['start_time'].agg(['std','max','min','median','mean','sum']).add_prefix('voice_gap_time_').reset_index()\n# voice_gap_end_time = voice.groupby(['uid'])['end_time'].agg(['std','max','min','median','mean','sum']).add_prefix('voice_gap_time_').reset_index()",
      "execution_count": 34,
      "outputs": []
    },
    {
      "metadata": {
        "trusted": true,
        "_uuid": "7b9169abe4775582e1a860eea880e465e6b9dbb6",
        "scrolled": true
      },
      "cell_type": "code",
      "source": "voice_start_hour_count= voice.groupby(['uid'])['start_time'].agg({'unique_count': lambda x: len(pd.unique((x//10000)%100)),'count':'count'}).add_prefix('voice_start_hour_count_').reset_index()\nvoice_end_hour_count= voice.groupby(['uid'])['end_time'].agg({'unique_count': lambda x: len(pd.unique((x//10000)%100)),'count1':'count'}).add_prefix('voice_end_hour_count_').reset_index()\nvoice_start_day_count= voice.groupby(['uid'])['start_time'].agg({'unique_count': lambda x: len(pd.unique(x//1000000)),'count2':'count'}).add_prefix('voice_start_day_count_').reset_index()\nvoice_end_day_count= voice.groupby(['uid'])['end_time'].agg({'unique_count': lambda x: len(pd.unique(x//1000000)),'count3':'count'}).add_prefix('voice_end_day_count_').reset_index()\nvoice_early_hour= voice.groupby(['uid'])['start_time'].agg({'unique_count': lambda x: min(pd.unique((x//10000)%100)),'count4':'count'}).add_prefix('voice_early_hour_count_').reset_index()\nvoice_late_hour= voice.groupby(['uid'])['start_time'].agg({'unique_count': lambda x: max(pd.unique((x//10000)%100)),'count5':'count'}).add_prefix('voice_late_hour_count_').reset_index()\nvoice_end_early_hour= voice.groupby(['uid'])['end_time'].agg({'unique_count': lambda x: min(pd.unique((x//10000)%100)),'count6':'count'}).add_prefix('voice_early_hour_count_').reset_index()\nvoice_end_late_hour= voice.groupby(['uid'])['end_time'].agg({'unique_count': lambda x: max(pd.unique((x//10000)%100)),'count7':'count'}).add_prefix('voice_late_hour_count_').reset_index()",
      "execution_count": 8,
      "outputs": [
        {
          "output_type": "stream",
          "text": "/opt/conda/lib/python3.6/site-packages/ipykernel_launcher.py:1: FutureWarning: using a dict on a Series for aggregation\nis deprecated and will be removed in a future version\n  \"\"\"Entry point for launching an IPython kernel.\n/opt/conda/lib/python3.6/site-packages/ipykernel_launcher.py:2: FutureWarning: using a dict on a Series for aggregation\nis deprecated and will be removed in a future version\n  \n/opt/conda/lib/python3.6/site-packages/ipykernel_launcher.py:3: FutureWarning: using a dict on a Series for aggregation\nis deprecated and will be removed in a future version\n  This is separate from the ipykernel package so we can avoid doing imports until\n/opt/conda/lib/python3.6/site-packages/ipykernel_launcher.py:4: FutureWarning: using a dict on a Series for aggregation\nis deprecated and will be removed in a future version\n  after removing the cwd from sys.path.\n/opt/conda/lib/python3.6/site-packages/ipykernel_launcher.py:5: FutureWarning: using a dict on a Series for aggregation\nis deprecated and will be removed in a future version\n  \"\"\"\n/opt/conda/lib/python3.6/site-packages/ipykernel_launcher.py:6: FutureWarning: using a dict on a Series for aggregation\nis deprecated and will be removed in a future version\n  \n/opt/conda/lib/python3.6/site-packages/ipykernel_launcher.py:7: FutureWarning: using a dict on a Series for aggregation\nis deprecated and will be removed in a future version\n  import sys\n/opt/conda/lib/python3.6/site-packages/ipykernel_launcher.py:8: FutureWarning: using a dict on a Series for aggregation\nis deprecated and will be removed in a future version\n  \n",
          "name": "stderr"
        }
      ]
    },
    {
      "metadata": {
        "_uuid": "aaf9f740458ef58c420d0b1b87b93c186aa48d6f"
      },
      "cell_type": "markdown",
      "source": "## 这有一些参考的特征"
    },
    {
      "metadata": {
        "trusted": true,
        "collapsed": true,
        "_uuid": "82d252a76314227f397e7eabe4f76e8e7c39c5fd"
      },
      "cell_type": "code",
      "source": "def time_gap(start,end):\n    if pd.isnull(start):\n        return np.nan\n    end_day = int(str(end)[0:2])\n    start_day = int(str(start)[0:2])\n    day_gap = (end_day-start_day)*86400\n    \n    \n    end_hour = int(str(end)[2:4])\n    start_hour = int(str(start)[2:4])\n    hour_gap = (end_hour-start_hour)*3600\n    \n    \n    \n    end_min = int(str(end)[4:6])\n    start_min = int(str(start)[4:6])\n    min_gap = (end_min-start_min)*60\n    \n    \n    end_sec = int(str(end)[6:8])\n    start_sec = int(str(start)[6:8])\n    sec_gap = (end_sec-start_sec)\n    \n    \n    return day_gap+hour_gap+min_gap+sec_gap\n    ",
      "execution_count": null,
      "outputs": []
    },
    {
      "metadata": {
        "trusted": true,
        "collapsed": true,
        "_uuid": "1a647e4b64baa8fe3b905ee5908e64d70dc91d32"
      },
      "cell_type": "code",
      "source": "## 通话时长统计\nvoice['gap_time']=voice[['start_time','end_time']].apply(lambda x: time_gap(x[0],x[1]),axis=1)\n\nvoice_gap_time=voice.groupby(['uid'])['gap_time'].agg(['std','max','min','median','mean','sum',np.ptp]).add_prefix('voice_gap_time_').reset_index()\n\n\n\n",
      "execution_count": null,
      "outputs": []
    },
    {
      "metadata": {
        "trusted": true,
        "collapsed": true,
        "_uuid": "1d91cd871066b0906472c7e0338290ec637d8eb2"
      },
      "cell_type": "code",
      "source": "voice_call_type_opp_num_unique=voice.groupby(['uid','call_type'])['opp_num'].agg(lambda x: len(pd.unique(x))).unstack().add_prefix('voice_call_type_opp_num_unique_').reset_index().fillna(0)\n\nvoice_in_out_opp_num_unique = voice.groupby(['uid','in_out'])['opp_num'].agg(lambda x: len(pd.unique(x))).unstack().add_prefix('voice_in_out_opp_num_unique_').reset_index().fillna(0)\n\n",
      "execution_count": 9,
      "outputs": []
    },
    {
      "metadata": {
        "_uuid": "73787cb53eca285defbc8bb37bb66e76bbee9db5"
      },
      "cell_type": "markdown",
      "source": "## 短信记录"
    },
    {
      "metadata": {
        "trusted": true,
        "_uuid": "6d3fab6cda28068ae1c833af146b5574de39c87a",
        "collapsed": true
      },
      "cell_type": "code",
      "source": "sms_opp_num = sms.groupby(['uid'])['opp_num'].agg({'unique_count': lambda x: len(pd.unique(x)),'count':'count'}).add_prefix('sms_opp_num_').reset_index()\n\nsms_opp_head=sms.groupby(['uid'])['opp_head'].agg({'unique_count': lambda x: len(pd.unique(x))}).add_prefix('sms_opp_head_').reset_index()\n\nsms_opp_len=sms.groupby(['uid','opp_len'])['uid'].count().unstack().add_prefix('sms_opp_len_').reset_index().fillna(0)\n# sms_start_time = sms.groupby(['uid'])['start_time'].agg({'unique_count': lambda x: len(pd.unique(x)),'count':'count'}).add_prefix('sms_start_time_').reset_index()\n\nsms_in_out = sms.groupby(['uid','in_out'])['uid'].count().unstack().add_prefix('sms_in_out_').reset_index().fillna(0)\n",
      "execution_count": 186,
      "outputs": []
    },
    {
      "metadata": {
        "trusted": true,
        "_uuid": "4e104f51b39b91fce6cff9e24157863656c10d3c",
        "collapsed": true
      },
      "cell_type": "code",
      "source": "# sms_gap_time = sms.groupby(['uid'])['start_time'].agg(['std','max','min','median','mean','sum']).add_prefix('sms_gap_time_').reset_index()\nsms_last_start_gap_time = sms.groupby(['uid'])['start_time'].agg({'unique_count': lambda x: max(pd.unique((x//10000)%100)),'count':'count'}).add_prefix('sms_last_start_gap_time_').reset_index()\nsms_early_start_gap_time = sms.groupby(['uid'])['start_time'].agg({'unique_count': lambda x: min(pd.unique((x//10000)%100)),'count':'count'}).add_prefix('sms_early_start_gap_time_').reset_index()\nsms_hour_count= sms.groupby(['uid'])['start_time'].agg({'unique_count': lambda x: len(pd.unique((x//10000)%100)),'count':'count'}).add_prefix('sms_hour_count_').reset_index()",
      "execution_count": 187,
      "outputs": []
    },
    {
      "metadata": {
        "_uuid": "82292aa66b2d054f653aa892e4fb7afc4b1efdb5"
      },
      "cell_type": "markdown",
      "source": "### 网站/APP记录"
    },
    {
      "metadata": {
        "trusted": true,
        "_uuid": "4ffd729b7b180131adb5b5b507c8e89015459656",
        "collapsed": true
      },
      "cell_type": "code",
      "source": "wa_name = wa.groupby(['uid'])['wa_name'].agg({'unique_count': lambda x: len(pd.unique(x)),'count':'count'}).add_prefix('wa_name_').reset_index()\nvisit_cnt = wa.groupby(['uid'])['visit_cnt'].agg(['std','max','min','median','mean','sum']).add_prefix('wa_visit_cnt_').reset_index()\n\nvisit_dura = wa.groupby(['uid'])['visit_dura'].agg(['std','max','min','median','mean','sum']).add_prefix('wa_visit_dura_').reset_index()\n\n\nup_flow = wa.groupby(['uid'])['up_flow'].agg(['std','max','min','median','mean','sum']).add_prefix('wa_up_flow_').reset_index()\n\ndown_flow = wa.groupby(['uid'])['down_flow'].agg(['std','max','min','median','mean','sum']).add_prefix('wa_down_flow_').reset_index()",
      "execution_count": 188,
      "outputs": []
    },
    {
      "metadata": {
        "trusted": true,
        "_uuid": "1e7843c22fa56e4e228d8a0c8af8dd038f8b3f9a",
        "scrolled": true,
        "collapsed": true
      },
      "cell_type": "code",
      "source": "wa_name_1 = wa[wa.wa_type==1.0].groupby(['uid'])['wa_name'].agg({'unique_count': lambda x: len(pd.unique(x)),'count':'count'}).add_prefix('wa_name_1_').reset_index()\nvisit_cnt_1 = wa[wa.wa_type==1.0].groupby(['uid'])['visit_cnt'].agg(['std','max','min','median','mean','sum']).add_prefix('wa_visit_cnt_1_').reset_index()\n\nvisit_dura_1 = wa[wa.wa_type==1.0].groupby(['uid'])['visit_dura'].agg(['std','max','min','median','mean','sum']).add_prefix('wa_visit_dura_1_').reset_index()\n\n\nup_flow_1 = wa[wa.wa_type==1.0].groupby(['uid'])['up_flow'].agg(['std','max','min','median','mean','sum']).add_prefix('wa_up_flow_1_').reset_index()\n\ndown_flow_1 = wa[wa.wa_type==1.0].groupby(['uid'])['down_flow'].agg(['std','max','min','median','mean','sum']).add_prefix('wa_down_flow_1_').reset_index()",
      "execution_count": 189,
      "outputs": []
    },
    {
      "metadata": {
        "trusted": true,
        "_uuid": "128d00e84aa337b15cacc47b0200881a7558b042",
        "collapsed": true
      },
      "cell_type": "code",
      "source": "wa_name_0 = wa[wa.wa_type==0.0].groupby(['uid'])['wa_name'].agg({'unique_count': lambda x: len(pd.unique(x)),'count':'count'}).add_prefix('wa_name_0_').reset_index()\nvisit_cnt_0 = wa[wa.wa_type==0.0].groupby(['uid'])['visit_cnt'].agg(['std','max','min','median','mean','sum']).add_prefix('wa_visit_cnt_0_').reset_index()\n\nvisit_dura_0 = wa[wa.wa_type==0.0].groupby(['uid'])['visit_dura'].agg(['std','max','min','median','mean','sum']).add_prefix('wa_visit_dura_0_').reset_index()\n\n\nup_flow_0 = wa[wa.wa_type==0.0].groupby(['uid'])['up_flow'].agg(['std','max','min','median','mean','sum']).add_prefix('wa_up_flow_0_').reset_index()\n\ndown_flow_0 = wa[wa.wa_type==0.0].groupby(['uid'])['down_flow'].agg(['std','max','min','median','mean','sum']).add_prefix('wa_down_flow_0_').reset_index()",
      "execution_count": 190,
      "outputs": []
    },
    {
      "metadata": {
        "trusted": true,
        "_uuid": "a751077c9e5a17cc970dad32326d0e804282cc72",
        "collapsed": true
      },
      "cell_type": "code",
      "source": "# feature = [voice_opp_num,voice_opp_head,voice_start_time,voice_end_time,voice_opp_len,voice_call_type,voice_in_out,sms_opp_num,sms_opp_head,sms_opp_len,sms_start_time,sms_in_out,wa_name,visit_cnt,visit_dura,up_flow,\n#            down_flow,wa_name_1,visit_cnt_1,visit_dura_1,up_flow_1,down_flow_1,wa_name_0,visit_cnt_0,visit_dura_0,up_flow_0,down_flow_0,\n#            voice_start_hour_count,voice_end_hour_count,voice_start_day_count,voice_end_day_count,voice_early_hour,voice_late_hour,voice_end_early_hour,voice_end_late_hour,\n#            sms_early_start_gap_time,sms_last_start_gap_time,sms_hour_count]",
      "execution_count": 132,
      "outputs": []
    },
    {
      "metadata": {
        "collapsed": true,
        "trusted": true,
        "_uuid": "dba3d54d4f629914b0ba143a13335043446dca7c"
      },
      "cell_type": "code",
      "source": "# feature = [voice_opp_num,voice_opp_head,voice_start_time,voice_end_time,voice_opp_len,voice_call_type,voice_in_out,sms_opp_num,sms_opp_head,sms_opp_len,sms_in_out,wa_name,visit_cnt,visit_dura,up_flow,\n#            down_flow,wa_name_1,visit_cnt_1,visit_dura_1,up_flow_1,down_flow_1,wa_name_0,visit_cnt_0,visit_dura_0,up_flow_0,down_flow_0,voice_gap_time,voice_last_gap_time\n#           ,sms_last_start_gap_time,sms_hour_count,voice_start_hour_count]",
      "execution_count": 127,
      "outputs": []
    },
    {
      "metadata": {
        "collapsed": true,
        "trusted": true,
        "_uuid": "8307ca7ab93162aee7fbe27fe3d33cdbd7c8f5f0"
      },
      "cell_type": "code",
      "source": "# train_feature = uid_train\n# for feat in feature:\n#     train_feature=pd.merge(train_feature,feat,how='left',on='uid')",
      "execution_count": 134,
      "outputs": []
    },
    {
      "metadata": {
        "collapsed": true,
        "trusted": true,
        "_uuid": "439dad9539e5421242db2d743a98d0aaace3a7e9"
      },
      "cell_type": "code",
      "source": "# test_feature = uid_test\n# for feat in feature:\n#     test_feature=pd.merge(test_feature,feat,how='left',on='uid')",
      "execution_count": 129,
      "outputs": []
    },
    {
      "metadata": {
        "collapsed": true,
        "trusted": true,
        "_uuid": "90a7e8557be43f185e79c6cf21edcf805d4200fb"
      },
      "cell_type": "code",
      "source": "# train_feature.to_csv('train_featureV4.csv',index=None)\n# test_feature.to_csv('test_featureV4.csv',index=None)",
      "execution_count": 75,
      "outputs": []
    },
    {
      "metadata": {
        "trusted": true,
        "collapsed": true,
        "_uuid": "d4bf9834ad68174aa205cdee9edca2de171b7295"
      },
      "cell_type": "code",
      "source": "# dtrain = lgb.Dataset(train_feature.drop(['uid','label'],axis=1),label=train.label)\n# dtest = lgb.Dataset(test_feature.drop(['uid'],axis=1))",
      "execution_count": 178,
      "outputs": []
    },
    {
      "metadata": {
        "trusted": true,
        "collapsed": true,
        "_uuid": "2a79422af39ff5fc55d5ac84ff2160b3345a3c48"
      },
      "cell_type": "code",
      "source": "feature = [voice_opp_num,voice_gap_time,voice_call_type_opp_num_unique,voice_in_out_opp_num_unique,voice_opp_head,voice_opp_len,voice_call_type,voice_in_out,sms_opp_num,sms_opp_head,sms_opp_len,sms_in_out,wa_name,visit_cnt,visit_dura,up_flow,\n#            down_flow,wa_name_1,visit_cnt_1,visit_dura_1,up_flow_1,down_flow_1,wa_name_0,visit_cnt_0,visit_dura_0,up_flow_0,down_flow_0,\n           voice_start_hour_count,voice_end_hour_count,voice_start_day_count,voice_end_day_count,voice_early_hour,voice_late_hour,voice_end_early_hour,voice_end_late_hour,\n#            sms_early_start_gap_time,sms_last_start_gap_time,sms_hour_count\n          ]\ntrain_feature = uid_train\nfor feat in feature:\n    train_feature=pd.merge(train_feature,feat,how='left',on='uid')\ntest_feature = uid_test\nfor feat in feature:\n    test_feature=pd.merge(test_feature,feat,how='left',on='uid')\ndtrain = lgb.Dataset(train_feature.drop(['uid','label'],axis=1),label=train.label)\ndtest = lgb.Dataset(test_feature.drop(['uid'],axis=1))",
      "execution_count": 194,
      "outputs": []
    },
    {
      "metadata": {
        "trusted": true,
        "collapsed": true,
        "_uuid": "906586a5d00000043a426b3d5b094ca6bfa181c3"
      },
      "cell_type": "code",
      "source": "# train_feature.to_csv('train_featureV4.csv',index=None)\n# test_feature.to_csv('test_featureV4.csv',index=None)",
      "execution_count": 206,
      "outputs": []
    },
    {
      "metadata": {
        "trusted": true,
        "collapsed": true,
        "_uuid": "46db66cb68bc9896a8843a53742d606e2bda9953"
      },
      "cell_type": "code",
      "source": "",
      "execution_count": 201,
      "outputs": []
    }
  ],
  "metadata": {
    "kernelspec": {
      "display_name": "Python 3",
      "language": "python",
      "name": "python3"
    },
    "language_info": {
      "name": "python",
      "version": "3.6.5",
      "mimetype": "text/x-python",
      "codemirror_mode": {
        "name": "ipython",
        "version": 3
      },
      "pygments_lexer": "ipython3",
      "nbconvert_exporter": "python",
      "file_extension": ".py"
    }
  },
  "nbformat": 4,
  "nbformat_minor": 1
}